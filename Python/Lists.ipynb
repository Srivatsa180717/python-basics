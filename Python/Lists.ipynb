{
 "cells": [
  {
   "cell_type": "code",
   "execution_count": 1,
   "id": "47ce763a-b17e-4ad0-8b98-90feff375e0d",
   "metadata": {},
   "outputs": [],
   "source": [
    "l = list()"
   ]
  },
  {
   "cell_type": "code",
   "execution_count": 9,
   "id": "5e883845-c9ec-4e15-bd04-8dba6239c079",
   "metadata": {},
   "outputs": [],
   "source": [
    "l = [\"Vatsa\",912161,[1,5,'Vatsa'],'22STUCHH010448',\"FST\",True,2+3j]"
   ]
  },
  {
   "cell_type": "code",
   "execution_count": 10,
   "id": "f16e1ee9-d075-4996-9575-644a93e9b65c",
   "metadata": {},
   "outputs": [
    {
     "data": {
      "text/plain": [
       "list"
      ]
     },
     "execution_count": 10,
     "metadata": {},
     "output_type": "execute_result"
    }
   ],
   "source": [
    "type(l)"
   ]
  },
  {
   "cell_type": "code",
   "execution_count": 11,
   "id": "6f0532bd-6098-48ab-a1fb-5297684fd4b0",
   "metadata": {},
   "outputs": [
    {
     "data": {
      "text/plain": [
       "'FST'"
      ]
     },
     "execution_count": 11,
     "metadata": {},
     "output_type": "execute_result"
    }
   ],
   "source": [
    "l[4]"
   ]
  },
  {
   "cell_type": "code",
   "execution_count": 17,
   "id": "c1dc7c4e-b1d0-484f-9f77-d613fccba23e",
   "metadata": {},
   "outputs": [
    {
     "name": "stdout",
     "output_type": "stream",
     "text": [
      "1\n",
      "5\n",
      "The sum of integers in the list of list is 6\n"
     ]
    }
   ],
   "source": [
    "for i in l:\n",
    "    if type(i)==list:\n",
    "        n = 0\n",
    "        for j in i:\n",
    "            if type(j)==int:\n",
    "                print(j)\n",
    "                n = n+j\n",
    "        print(\"The sum of integers in the list of list is \"+str(n))"
   ]
  },
  {
   "cell_type": "code",
   "execution_count": 18,
   "id": "4772f8ec-7fef-4821-81cd-b1834d9f0716",
   "metadata": {},
   "outputs": [
    {
     "name": "stdout",
     "output_type": "stream",
     "text": [
      "[0, 1, 2, 3, 4, 5, 6, 7, 8, 9, 10, 11, 12, 13, 14, 15, 16, 17, 18, 19, 20, 21, 22, 23, 24, 25, 26, 27, 28, 29, 30, 31, 32, 33, 34, 35, 36, 37, 38, 39, 40, 41, 42, 43, 44, 45, 46, 47, 48, 49]\n"
     ]
    }
   ],
   "source": [
    "l1 = list(range(50))\n",
    "print(l1)"
   ]
  },
  {
   "cell_type": "code",
   "execution_count": 2,
   "id": "b49ada28-190d-403a-97ac-cb91d743bb2d",
   "metadata": {},
   "outputs": [
    {
     "data": {
      "text/plain": [
       "[1, 2, 3, 4, 5, 5, 6, 7, 8, 9]"
      ]
     },
     "execution_count": 2,
     "metadata": {},
     "output_type": "execute_result"
    }
   ],
   "source": [
    "l = [1,2,3,4,5]\n",
    "l2=[5,6,7,8,9]\n",
    "l+l2"
   ]
  },
  {
   "cell_type": "code",
   "execution_count": 3,
   "id": "5522e6cc-358d-4771-88b4-4286b7ec0844",
   "metadata": {},
   "outputs": [
    {
     "data": {
      "text/plain": [
       "5"
      ]
     },
     "execution_count": 3,
     "metadata": {},
     "output_type": "execute_result"
    }
   ],
   "source": [
    "len(l)"
   ]
  },
  {
   "cell_type": "code",
   "execution_count": 6,
   "id": "ca683568-cb52-44ff-a373-e0af836af45a",
   "metadata": {},
   "outputs": [
    {
     "data": {
      "text/plain": [
       "9"
      ]
     },
     "execution_count": 6,
     "metadata": {},
     "output_type": "execute_result"
    }
   ],
   "source": [
    "max(l2)"
   ]
  },
  {
   "cell_type": "code",
   "execution_count": 8,
   "id": "ad44490d-13fd-43dd-85bb-7c1ebd5d83bd",
   "metadata": {},
   "outputs": [
    {
     "data": {
      "text/plain": [
       "'f'"
      ]
     },
     "execution_count": 8,
     "metadata": {},
     "output_type": "execute_result"
    }
   ],
   "source": [
    "l3=['a','b','c','d','e','f']\n",
    "max(l3)"
   ]
  },
  {
   "cell_type": "code",
   "execution_count": 14,
   "id": "d7c03b1d-2797-468d-8a56-cd4e810a1827",
   "metadata": {},
   "outputs": [
    {
     "data": {
      "text/plain": [
       "1"
      ]
     },
     "execution_count": 14,
     "metadata": {},
     "output_type": "execute_result"
    }
   ],
   "source": [
    "min(l)"
   ]
  },
  {
   "cell_type": "code",
   "execution_count": 15,
   "id": "e980cf66-ecea-4675-b32f-3490343d6c74",
   "metadata": {},
   "outputs": [
    {
     "data": {
      "text/plain": [
       "'a'"
      ]
     },
     "execution_count": 15,
     "metadata": {},
     "output_type": "execute_result"
    }
   ],
   "source": [
    "min(l3)"
   ]
  },
  {
   "cell_type": "code",
   "execution_count": 16,
   "id": "2dc14c8c-a4b5-4233-a84c-33a61f6ee639",
   "metadata": {},
   "outputs": [],
   "source": [
    "l.append(10)"
   ]
  },
  {
   "cell_type": "code",
   "execution_count": 17,
   "id": "f754a782-3b20-421d-9c9e-3d4625a24770",
   "metadata": {},
   "outputs": [],
   "source": [
    "l.append(6+5j)"
   ]
  },
  {
   "cell_type": "code",
   "execution_count": 18,
   "id": "31972409-99ed-4d8e-99f2-04a1529fc4a3",
   "metadata": {},
   "outputs": [],
   "source": [
    "l.append(\"Vatsa\")"
   ]
  },
  {
   "cell_type": "code",
   "execution_count": 19,
   "id": "fc3e794f-c78e-4be7-a0b8-165d07dff9cb",
   "metadata": {},
   "outputs": [],
   "source": [
    "l.insert(3,10)"
   ]
  },
  {
   "cell_type": "code",
   "execution_count": 20,
   "id": "2cd887f8-ca3a-4537-8839-32d2b19b1ea4",
   "metadata": {},
   "outputs": [
    {
     "data": {
      "text/plain": [
       "[1, 2, 3, 10, 4, 5, 10, (6+5j), 'Vatsa']"
      ]
     },
     "execution_count": 20,
     "metadata": {},
     "output_type": "execute_result"
    }
   ],
   "source": [
    "l\n"
   ]
  },
  {
   "cell_type": "code",
   "execution_count": 21,
   "id": "30470df7-9ed0-4e18-a9d6-abfd6d32fcd7",
   "metadata": {},
   "outputs": [],
   "source": [
    "l.insert(-1,50)"
   ]
  },
  {
   "cell_type": "code",
   "execution_count": 22,
   "id": "d6410b53-a4da-44c3-a167-d4c007c82931",
   "metadata": {},
   "outputs": [
    {
     "data": {
      "text/plain": [
       "[1, 2, 3, 10, 4, 5, 10, (6+5j), 50, 'Vatsa']"
      ]
     },
     "execution_count": 22,
     "metadata": {},
     "output_type": "execute_result"
    }
   ],
   "source": [
    "l"
   ]
  },
  {
   "cell_type": "code",
   "execution_count": 24,
   "id": "ba755877-8a5d-4722-a520-432f94354f2b",
   "metadata": {},
   "outputs": [],
   "source": [
    "l.extend(l2)"
   ]
  },
  {
   "cell_type": "code",
   "execution_count": 25,
   "id": "0897f0c8-a4ba-4419-8174-3e7afb4ea8ab",
   "metadata": {},
   "outputs": [
    {
     "data": {
      "text/plain": [
       "[1, 2, 3, 10, 4, 5, 10, (6+5j), 50, 'Vatsa', 5, 6, 7, 8, 9]"
      ]
     },
     "execution_count": 25,
     "metadata": {},
     "output_type": "execute_result"
    }
   ],
   "source": [
    "l"
   ]
  },
  {
   "cell_type": "code",
   "execution_count": 26,
   "id": "128818c7-da03-4759-a3e4-40f431d10206",
   "metadata": {},
   "outputs": [
    {
     "data": {
      "text/plain": [
       "3"
      ]
     },
     "execution_count": 26,
     "metadata": {},
     "output_type": "execute_result"
    }
   ],
   "source": [
    "l.index(10)"
   ]
  },
  {
   "cell_type": "code",
   "execution_count": 27,
   "id": "35e34593-b967-429c-b5cf-d6153a71218c",
   "metadata": {},
   "outputs": [
    {
     "data": {
      "text/plain": [
       "9"
      ]
     },
     "execution_count": 27,
     "metadata": {},
     "output_type": "execute_result"
    }
   ],
   "source": [
    "l.pop()"
   ]
  },
  {
   "cell_type": "code",
   "execution_count": 28,
   "id": "72bccace-377f-4ea2-9803-8083b64b8bda",
   "metadata": {},
   "outputs": [
    {
     "data": {
      "text/plain": [
       "[1, 2, 3, 10, 4, 5, 10, (6+5j), 50, 'Vatsa', 5, 6, 7, 8]"
      ]
     },
     "execution_count": 28,
     "metadata": {},
     "output_type": "execute_result"
    }
   ],
   "source": [
    "l"
   ]
  },
  {
   "cell_type": "code",
   "execution_count": 29,
   "id": "adeed716-466f-4d85-92fe-2e65aa441109",
   "metadata": {},
   "outputs": [],
   "source": [
    "l.remove(10)"
   ]
  },
  {
   "cell_type": "code",
   "execution_count": 30,
   "id": "0f76db14-8207-43d3-b079-82aa0e6e2b54",
   "metadata": {},
   "outputs": [
    {
     "data": {
      "text/plain": [
       "[1, 2, 3, 4, 5, 10, (6+5j), 50, 'Vatsa', 5, 6, 7, 8]"
      ]
     },
     "execution_count": 30,
     "metadata": {},
     "output_type": "execute_result"
    }
   ],
   "source": [
    "l"
   ]
  },
  {
   "cell_type": "code",
   "execution_count": 31,
   "id": "5dabeac9-0cf7-4348-bb18-7b1df929f754",
   "metadata": {},
   "outputs": [],
   "source": [
    "l2.sort()"
   ]
  },
  {
   "cell_type": "code",
   "execution_count": 32,
   "id": "99816654-580c-4a13-97ba-a9f6658b7529",
   "metadata": {},
   "outputs": [
    {
     "data": {
      "text/plain": [
       "[5, 6, 7, 8, 9]"
      ]
     },
     "execution_count": 32,
     "metadata": {},
     "output_type": "execute_result"
    }
   ],
   "source": [
    "l2"
   ]
  },
  {
   "cell_type": "code",
   "execution_count": 35,
   "id": "75e71422-cecc-4ccf-bd2b-1419af72b585",
   "metadata": {},
   "outputs": [],
   "source": [
    "li = [[1,2,3],[4,5,6],[7,8,9]]\n",
    "li.append([10,11,12])\n",
    "li.append([13,14,15])\n",
    "li.append(5+5j)"
   ]
  },
  {
   "cell_type": "code",
   "execution_count": 36,
   "id": "199e9907-6e71-4934-89a5-7569297be206",
   "metadata": {},
   "outputs": [
    {
     "data": {
      "text/plain": [
       "[[1, 2, 3], [4, 5, 6], [7, 8, 9], [10, 11, 12], [13, 14, 15], (5+5j)]"
      ]
     },
     "execution_count": 36,
     "metadata": {},
     "output_type": "execute_result"
    }
   ],
   "source": [
    "li"
   ]
  },
  {
   "cell_type": "code",
   "execution_count": 37,
   "id": "25e7a4cb-3fcb-46a3-afe5-704b7d899732",
   "metadata": {},
   "outputs": [
    {
     "data": {
      "text/plain": [
       "(5+5j)"
      ]
     },
     "execution_count": 37,
     "metadata": {},
     "output_type": "execute_result"
    }
   ],
   "source": [
    "li.pop()"
   ]
  },
  {
   "cell_type": "code",
   "execution_count": 40,
   "id": "1953981c-ede7-4844-9b7e-7f96aa31e7c2",
   "metadata": {},
   "outputs": [
    {
     "name": "stdin",
     "output_type": "stream",
     "text": [
      " 2\n",
      " 24\n",
      " 55\n",
      " 67\n",
      " 1\n"
     ]
    },
    {
     "name": "stdout",
     "output_type": "stream",
     "text": [
      "[2, 24, 55, 67, 1]\n"
     ]
    }
   ],
   "source": [
    "l = []\n",
    "for i in range(5):\n",
    "    l.append(int(input()))\n",
    "print(l)"
   ]
  },
  {
   "cell_type": "code",
   "execution_count": 41,
   "id": "5643daac-a0de-4828-9f92-62d0d73b67fa",
   "metadata": {},
   "outputs": [],
   "source": [
    "for i in 'sudh':\n",
    "    l.append(i)"
   ]
  },
  {
   "cell_type": "code",
   "execution_count": 43,
   "id": "0b94241d-9925-4d4e-b0d5-017c28b13a6d",
   "metadata": {},
   "outputs": [
    {
     "data": {
      "text/plain": [
       "['s', 'u', 'd', 'h']"
      ]
     },
     "execution_count": 43,
     "metadata": {},
     "output_type": "execute_result"
    }
   ],
   "source": [
    "[i for i in \"sudh\"] "
   ]
  },
  {
   "cell_type": "markdown",
   "id": "1f992ec7-164d-4f08-b3fc-5ba074b4b6f7",
   "metadata": {},
   "source": [
    "# same as the above code but it is just another way of writing the code"
   ]
  },
  {
   "cell_type": "code",
   "execution_count": 44,
   "id": "0febf175-d9f6-434c-94f2-5cdd1d614c67",
   "metadata": {},
   "outputs": [
    {
     "data": {
      "text/plain": [
       "[['s'], ['u'], ['d'], ['h']]"
      ]
     },
     "execution_count": 44,
     "metadata": {},
     "output_type": "execute_result"
    }
   ],
   "source": [
    "[[i] for i in \"sudh\"]"
   ]
  },
  {
   "cell_type": "code",
   "execution_count": 45,
   "id": "019867a7-43c4-4c1e-be19-00647d8dcd5e",
   "metadata": {},
   "outputs": [
    {
     "data": {
      "text/plain": [
       "[0, 2, 4, 6, 8]"
      ]
     },
     "execution_count": 45,
     "metadata": {},
     "output_type": "execute_result"
    }
   ],
   "source": [
    "l = [] #same code, list comprehension example\n",
    "for i in range(10):\n",
    "    if i%2==0:\n",
    "        l.append(i)\n",
    "\n",
    "[i for i in range(10) if i%2==0]"
   ]
  },
  {
   "cell_type": "code",
   "execution_count": 46,
   "id": "c9e77d67-f08e-4ab9-a6dd-38a2c76bd090",
   "metadata": {},
   "outputs": [],
   "source": [
    "mat = []\n",
    "for i in range(3):\n",
    "    mat.append([])\n",
    "    for j in range(3):\n",
    "        mat[i].append(j)\n",
    "        "
   ]
  },
  {
   "cell_type": "code",
   "execution_count": 47,
   "id": "4ac6a292-dc1b-42a2-a6e4-2acb19716d70",
   "metadata": {},
   "outputs": [
    {
     "data": {
      "text/plain": [
       "[[0, 1, 2], [0, 1, 2], [0, 1, 2]]"
      ]
     },
     "execution_count": 47,
     "metadata": {},
     "output_type": "execute_result"
    }
   ],
   "source": [
    "mat"
   ]
  },
  {
   "cell_type": "code",
   "execution_count": 26,
   "id": "2f145400-acdd-434e-9118-8bdbba065e08",
   "metadata": {},
   "outputs": [
    {
     "data": {
      "text/plain": [
       "[[0, 1, 2], [0, 1, 2], [0, 1, 2]]"
      ]
     },
     "execution_count": 26,
     "metadata": {},
     "output_type": "execute_result"
    }
   ],
   "source": [
    "[[i for i in range(3)] for i in range(3)]"
   ]
  },
  {
   "cell_type": "code",
   "execution_count": 20,
   "id": "948eefbf-fbf3-41ec-b55a-e4faa9d26f9d",
   "metadata": {},
   "outputs": [],
   "source": [
    "l = []\n",
    "for i in range(10):\n",
    "    if i%2 != 0:\n",
    "        l.append(\"odd\")\n",
    "    else:\n",
    "        l.append(\"even\")"
   ]
  },
  {
   "cell_type": "code",
   "execution_count": 21,
   "id": "0eeafc24-d5f3-4cf0-9b69-dc2653f2ddd9",
   "metadata": {},
   "outputs": [
    {
     "data": {
      "text/plain": [
       "['even', 'odd', 'even', 'odd', 'even', 'odd', 'even', 'odd', 'even', 'odd']"
      ]
     },
     "execution_count": 21,
     "metadata": {},
     "output_type": "execute_result"
    }
   ],
   "source": [
    "l"
   ]
  },
  {
   "cell_type": "code",
   "execution_count": 24,
   "id": "1e7a30fd-7daf-44de-b362-9a5385d93704",
   "metadata": {},
   "outputs": [
    {
     "ename": "SyntaxError",
     "evalue": "invalid syntax (2973405483.py, line 1)",
     "output_type": "error",
     "traceback": [
      "\u001b[1;36m  Cell \u001b[1;32mIn[24], line 1\u001b[1;36m\u001b[0m\n\u001b[1;33m    [\"odd\" for i in range(10) if i%2!=0 else \"odd\"] #This will give you an error\u001b[0m\n\u001b[1;37m                                        ^\u001b[0m\n\u001b[1;31mSyntaxError\u001b[0m\u001b[1;31m:\u001b[0m invalid syntax\n"
     ]
    }
   ],
   "source": [
    "[\"odd\" for i in range(10) if i%2!=0 else \"odd\"] #This will give you an error"
   ]
  },
  {
   "cell_type": "code",
   "execution_count": 25,
   "id": "cf107c6a-7383-4995-8f2e-ba5deef355ab",
   "metadata": {},
   "outputs": [
    {
     "data": {
      "text/plain": [
       "['even', 'odd', 'even', 'odd', 'even', 'odd', 'even', 'odd', 'even', 'odd']"
      ]
     },
     "execution_count": 25,
     "metadata": {},
     "output_type": "execute_result"
    }
   ],
   "source": [
    "[\"odd\" if i%2!=0 else \"even\" for i in range(10)]"
   ]
  },
  {
   "cell_type": "code",
   "execution_count": 27,
   "id": "545f5dc8-3d60-4b69-8cbc-02fcae1f8cd3",
   "metadata": {},
   "outputs": [
    {
     "data": {
      "text/plain": [
       "[0, 6]"
      ]
     },
     "execution_count": 27,
     "metadata": {},
     "output_type": "execute_result"
    }
   ],
   "source": [
    "[i for i in range(10) if i%2==0 if i%3==0]"
   ]
  },
  {
   "cell_type": "code",
   "execution_count": 28,
   "id": "44d8fa99-2d43-47bf-9504-0b5444152b44",
   "metadata": {},
   "outputs": [],
   "source": [
    "l=[]\n",
    "for i in range(10):\n",
    "    l.append(i)"
   ]
  },
  {
   "cell_type": "code",
   "execution_count": 30,
   "id": "1410b2fc-1e25-4aec-95f4-b8f30f35ecf3",
   "metadata": {},
   "outputs": [
    {
     "data": {
      "text/plain": [
       "['test', 'yes', 'no', 'test', 'test', 'test', 'test', 'test', 'test', 'test']"
      ]
     },
     "execution_count": 30,
     "metadata": {},
     "output_type": "execute_result"
    }
   ],
   "source": [
    "[\"yes\" if i==1 else \"no\" if i==2 else \"test\" for i in l]"
   ]
  },
  {
   "cell_type": "code",
   "execution_count": null,
   "id": "9aa4f821-3739-4d22-8c09-5d1fa2908d47",
   "metadata": {},
   "outputs": [],
   "source": []
  }
 ],
 "metadata": {
  "kernelspec": {
   "display_name": "Python 3 (ipykernel)",
   "language": "python",
   "name": "python3"
  },
  "language_info": {
   "codemirror_mode": {
    "name": "ipython",
    "version": 3
   },
   "file_extension": ".py",
   "mimetype": "text/x-python",
   "name": "python",
   "nbconvert_exporter": "python",
   "pygments_lexer": "ipython3",
   "version": "3.12.7"
  }
 },
 "nbformat": 4,
 "nbformat_minor": 5
}
