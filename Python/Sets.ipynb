{
 "cells": [
  {
   "cell_type": "code",
   "execution_count": 1,
   "id": "5b056445-81b1-4e11-91f7-d9d612f405ed",
   "metadata": {},
   "outputs": [],
   "source": [
    "x = set()"
   ]
  },
  {
   "cell_type": "code",
   "execution_count": 2,
   "id": "f01110e8-974e-4623-8504-7bd5b205c540",
   "metadata": {},
   "outputs": [],
   "source": [
    "x = {1,2,34,5,6}"
   ]
  },
  {
   "cell_type": "code",
   "execution_count": 4,
   "id": "b72fb8bb-6fd4-459b-9ce7-73198c336fae",
   "metadata": {},
   "outputs": [
    {
     "name": "stdout",
     "output_type": "stream",
     "text": [
      "1\n",
      "2\n",
      "34\n",
      "5\n",
      "6\n"
     ]
    }
   ],
   "source": [
    "for i in x:\n",
    "    print(i)"
   ]
  },
  {
   "cell_type": "code",
   "execution_count": 1,
   "id": "f9c1bfdf-287b-475c-8349-e24bdb4fb635",
   "metadata": {},
   "outputs": [
    {
     "ename": "NameError",
     "evalue": "name 'x' is not defined",
     "output_type": "error",
     "traceback": [
      "\u001b[1;31m---------------------------------------------------------------------------\u001b[0m",
      "\u001b[1;31mNameError\u001b[0m                                 Traceback (most recent call last)",
      "Cell \u001b[1;32mIn[1], line 1\u001b[0m\n\u001b[1;32m----> 1\u001b[0m x[\u001b[38;5;241m0\u001b[39m]\n",
      "\u001b[1;31mNameError\u001b[0m: name 'x' is not defined"
     ]
    }
   ],
   "source": [
    "x[0] "
   ]
  },
  {
   "cell_type": "markdown",
   "id": "bf318fa3-c09d-444c-b85b-3f8c438c2746",
   "metadata": {},
   "source": [
    "# Sets are unordered and unindexed and they also don't hold or support duplicate values"
   ]
  },
  {
   "cell_type": "code",
   "execution_count": 14,
   "id": "c4775da5-ad6e-4b13-b98c-8d41ea22ca9d",
   "metadata": {},
   "outputs": [],
   "source": [
    "s=set()"
   ]
  },
  {
   "cell_type": "code",
   "execution_count": 15,
   "id": "9c4c9119-d445-4d25-8d36-a0023b650d01",
   "metadata": {},
   "outputs": [],
   "source": [
    "#Functions of sets"
   ]
  },
  {
   "cell_type": "code",
   "execution_count": 16,
   "id": "a5376eb2-55fa-4cb0-8483-b36769c770cb",
   "metadata": {},
   "outputs": [],
   "source": [
    "s.add(54)"
   ]
  },
  {
   "cell_type": "code",
   "execution_count": 17,
   "id": "ebd23d02-bae9-46b2-9c7b-d4d797c418da",
   "metadata": {},
   "outputs": [],
   "source": [
    "s.add(23)"
   ]
  },
  {
   "cell_type": "code",
   "execution_count": 18,
   "id": "5e96054b-e232-41b0-abac-ea1df6daaed0",
   "metadata": {},
   "outputs": [
    {
     "data": {
      "text/plain": [
       "{23, 54}"
      ]
     },
     "execution_count": 18,
     "metadata": {},
     "output_type": "execute_result"
    }
   ],
   "source": [
    "s"
   ]
  },
  {
   "cell_type": "code",
   "execution_count": 19,
   "id": "177d6e3e-f981-4599-af34-c4b173aabd1a",
   "metadata": {},
   "outputs": [
    {
     "ename": "TypeError",
     "evalue": "unhashable type: 'list'",
     "output_type": "error",
     "traceback": [
      "\u001b[1;31m---------------------------------------------------------------------------\u001b[0m",
      "\u001b[1;31mTypeError\u001b[0m                                 Traceback (most recent call last)",
      "Cell \u001b[1;32mIn[19], line 1\u001b[0m\n\u001b[1;32m----> 1\u001b[0m s\u001b[38;5;241m.\u001b[39madd([\u001b[38;5;241m1\u001b[39m,\u001b[38;5;241m2\u001b[39m,\u001b[38;5;241m3\u001b[39m])\n",
      "\u001b[1;31mTypeError\u001b[0m: unhashable type: 'list'"
     ]
    }
   ],
   "source": [
    "s.add([1,2,3])"
   ]
  },
  {
   "cell_type": "code",
   "execution_count": 20,
   "id": "451a1e61-488d-49e1-ad87-c10b764e7f75",
   "metadata": {},
   "outputs": [],
   "source": [
    "s.remove(23)"
   ]
  },
  {
   "cell_type": "code",
   "execution_count": 3,
   "id": "72de0c35-4117-4237-9e44-b7635d3e9af9",
   "metadata": {},
   "outputs": [
    {
     "data": {
      "text/plain": [
       "{1, 2, 3, 4}"
      ]
     },
     "execution_count": 3,
     "metadata": {},
     "output_type": "execute_result"
    }
   ],
   "source": [
    "s1 = {1,2,3,4,5}\n",
    "s1.discard(5)\n",
    "s1"
   ]
  },
  {
   "cell_type": "code",
   "execution_count": 21,
   "id": "b97af915-169d-4e3b-97b9-2abb18d89855",
   "metadata": {},
   "outputs": [],
   "source": [
    "s.clear()"
   ]
  },
  {
   "cell_type": "code",
   "execution_count": 22,
   "id": "16240892-7b69-4d78-bb53-cec523dfa1ed",
   "metadata": {},
   "outputs": [
    {
     "data": {
      "text/plain": [
       "set()"
      ]
     },
     "execution_count": 22,
     "metadata": {},
     "output_type": "execute_result"
    }
   ],
   "source": [
    "s"
   ]
  },
  {
   "cell_type": "code",
   "execution_count": 23,
   "id": "d171e1a3-fef0-4ac2-a4c7-730ad530ddcf",
   "metadata": {},
   "outputs": [],
   "source": [
    "s = {1,2,3,4,5,6}"
   ]
  },
  {
   "cell_type": "code",
   "execution_count": 26,
   "id": "080ac2ba-576b-466b-ad16-0e5d42246e59",
   "metadata": {},
   "outputs": [],
   "source": [
    "s1 = {5,6,7,8,9,10,11}"
   ]
  },
  {
   "cell_type": "code",
   "execution_count": 27,
   "id": "685d7bc8-b6ae-4098-aac2-33c735d6fce9",
   "metadata": {},
   "outputs": [
    {
     "data": {
      "text/plain": [
       "{1, 2, 3, 4}"
      ]
     },
     "execution_count": 27,
     "metadata": {},
     "output_type": "execute_result"
    }
   ],
   "source": [
    "s.difference(s1)"
   ]
  },
  {
   "cell_type": "code",
   "execution_count": 28,
   "id": "96a5f784-f792-4ecb-bf8f-ec1b97a48c05",
   "metadata": {},
   "outputs": [
    {
     "data": {
      "text/plain": [
       "{1, 2, 3, 4, 5, 6, 7, 8, 9, 10, 11}"
      ]
     },
     "execution_count": 28,
     "metadata": {},
     "output_type": "execute_result"
    }
   ],
   "source": [
    "s.union(s1)"
   ]
  },
  {
   "cell_type": "code",
   "execution_count": 29,
   "id": "13095759-74bb-483e-b3ce-dbabcee8d074",
   "metadata": {},
   "outputs": [
    {
     "data": {
      "text/plain": [
       "{5, 6}"
      ]
     },
     "execution_count": 29,
     "metadata": {},
     "output_type": "execute_result"
    }
   ],
   "source": [
    "s.intersection(s1)"
   ]
  },
  {
   "cell_type": "code",
   "execution_count": 34,
   "id": "dd32b7e6-c58f-4e02-a196-be0cc715910b",
   "metadata": {},
   "outputs": [
    {
     "data": {
      "text/plain": [
       "3"
      ]
     },
     "execution_count": 34,
     "metadata": {},
     "output_type": "execute_result"
    }
   ],
   "source": [
    "s.pop()"
   ]
  },
  {
   "cell_type": "code",
   "execution_count": 35,
   "id": "502a718a-7510-4432-a41d-03ee9a11293e",
   "metadata": {},
   "outputs": [
    {
     "data": {
      "text/plain": [
       "{4, 5, 6}"
      ]
     },
     "execution_count": 35,
     "metadata": {},
     "output_type": "execute_result"
    }
   ],
   "source": [
    "s"
   ]
  },
  {
   "cell_type": "code",
   "execution_count": 36,
   "id": "a29c03c4-c3f6-41d9-abc8-8db87e153b66",
   "metadata": {},
   "outputs": [],
   "source": [
    "s.difference_update(s1)"
   ]
  },
  {
   "cell_type": "markdown",
   "id": "f3168120-741a-4ef5-b71d-884fa2b0646a",
   "metadata": {},
   "source": [
    "# Rest of the functions you can use by typing s. and pressing tab and getting a list of all the functions\n",
    "# And also for every method to know what type of arguements it can take you can just place the cursor inside the method and press shift and tab"
   ]
  },
  {
   "cell_type": "code",
   "execution_count": null,
   "id": "63fc757c-6e34-426e-83d8-d381c35ce1fe",
   "metadata": {},
   "outputs": [],
   "source": []
  }
 ],
 "metadata": {
  "kernelspec": {
   "display_name": "Python 3 (ipykernel)",
   "language": "python",
   "name": "python3"
  },
  "language_info": {
   "codemirror_mode": {
    "name": "ipython",
    "version": 3
   },
   "file_extension": ".py",
   "mimetype": "text/x-python",
   "name": "python",
   "nbconvert_exporter": "python",
   "pygments_lexer": "ipython3",
   "version": "3.12.7"
  }
 },
 "nbformat": 4,
 "nbformat_minor": 5
}
