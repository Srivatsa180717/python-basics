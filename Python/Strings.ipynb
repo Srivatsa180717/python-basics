{
 "cells": [
  {
   "cell_type": "code",
   "execution_count": 3,
   "id": "bf67cef6-8bb2-43e7-a44a-11c1103dbd71",
   "metadata": {},
   "outputs": [
    {
     "data": {
      "text/plain": [
       "'Vatsa'"
      ]
     },
     "execution_count": 3,
     "metadata": {},
     "output_type": "execute_result"
    }
   ],
   "source": [
    "s"
   ]
  },
  {
   "cell_type": "code",
   "execution_count": 2,
   "id": "d5768ba5-7c48-45ff-a0cb-646e343d9ed4",
   "metadata": {},
   "outputs": [
    {
     "name": "stdout",
     "output_type": "stream",
     "text": [
      "V\n",
      "a\n",
      "t\n",
      "s\n",
      "a\n"
     ]
    }
   ],
   "source": [
    "s = \"Vatsa\"\n",
    "for i in s:\n",
    "    print(i)"
   ]
  },
  {
   "cell_type": "code",
   "execution_count": 4,
   "id": "1fd5d44f-adc4-4838-a594-0bbd2b26ea66",
   "metadata": {},
   "outputs": [],
   "source": [
    "c = \"I am going to complete the course, that's why I am going to be better version of myself\""
   ]
  },
  {
   "cell_type": "markdown",
   "id": "3dbd7116-973c-4604-a813-8990098cd1a5",
   "metadata": {},
   "source": [
    "### if you enclose the string in a single quotes you can use double quotes inside the string and vice versa"
   ]
  },
  {
   "cell_type": "code",
   "execution_count": 5,
   "id": "f6d8b918-d437-4114-86db-45672f9c6683",
   "metadata": {},
   "outputs": [
    {
     "data": {
      "text/plain": [
       "' '"
      ]
     },
     "execution_count": 5,
     "metadata": {},
     "output_type": "execute_result"
    }
   ],
   "source": [
    "c[1]"
   ]
  },
  {
   "cell_type": "code",
   "execution_count": 6,
   "id": "5f9245e3-7c4b-4fd8-9e44-97ad596b0c70",
   "metadata": {},
   "outputs": [
    {
     "name": "stdout",
     "output_type": "stream",
     "text": [
      "87\n"
     ]
    }
   ],
   "source": [
    "print(len(c))"
   ]
  },
  {
   "cell_type": "code",
   "execution_count": 7,
   "id": "31db44fe-ae68-47c6-aa0d-deca6da437ee",
   "metadata": {},
   "outputs": [
    {
     "data": {
      "text/plain": [
       "\"flesym fo noisrev retteb eb ot gniog ma I yhw s't\""
      ]
     },
     "execution_count": 7,
     "metadata": {},
     "output_type": "execute_result"
    }
   ],
   "source": [
    "c[-1:-50:-1]"
   ]
  },
  {
   "cell_type": "code",
   "execution_count": 8,
   "id": "c124e8d7-1d1f-4a3f-a1f8-dce4dea86ee6",
   "metadata": {},
   "outputs": [
    {
     "data": {
      "text/plain": [
       "\"flesym fo noisrev retteb eb ot gniog ma I yhw s'taht ,esruoc eht etelpmoc ot gniog ma I\""
      ]
     },
     "execution_count": 8,
     "metadata": {},
     "output_type": "execute_result"
    }
   ],
   "source": [
    "c[::-1]"
   ]
  },
  {
   "cell_type": "code",
   "execution_count": 9,
   "id": "64541b45-648c-44f6-b4b0-ea6b7e50dfec",
   "metadata": {},
   "outputs": [
    {
     "ename": "TypeError",
     "evalue": "'str' object does not support item assignment",
     "output_type": "error",
     "traceback": [
      "\u001b[1;31m---------------------------------------------------------------------------\u001b[0m",
      "\u001b[1;31mTypeError\u001b[0m                                 Traceback (most recent call last)",
      "Cell \u001b[1;32mIn[9], line 1\u001b[0m\n\u001b[1;32m----> 1\u001b[0m c[\u001b[38;5;241m0\u001b[39m] \u001b[38;5;241m=\u001b[39m \u001b[38;5;124m'\u001b[39m\u001b[38;5;124mT\u001b[39m\u001b[38;5;124m'\u001b[39m\n",
      "\u001b[1;31mTypeError\u001b[0m: 'str' object does not support item assignment"
     ]
    }
   ],
   "source": [
    "c[0] = 'T'"
   ]
  },
  {
   "cell_type": "markdown",
   "id": "97d787e3-933c-4ddc-86b8-c896673c76fb",
   "metadata": {},
   "source": [
    "### Strings are immutable while lists are mutable"
   ]
  },
  {
   "cell_type": "code",
   "execution_count": 10,
   "id": "dfc45fbd-84d0-46fa-8d26-59ef5aaf26f4",
   "metadata": {},
   "outputs": [
    {
     "data": {
      "text/plain": [
       "'Vatsa A'"
      ]
     },
     "execution_count": 10,
     "metadata": {},
     "output_type": "execute_result"
    }
   ],
   "source": [
    "s + ' A'"
   ]
  },
  {
   "cell_type": "markdown",
   "id": "0d3b30d4-b854-4bab-a50d-676e3bed208b",
   "metadata": {},
   "source": [
    "### Don't remember all the methods just put s. and click tab button to get all the methods related to the datatype\n",
    "### Even inside the method you can find out the list of different arguements you can give by clicking tab again inside the method"
   ]
  },
  {
   "cell_type": "code",
   "execution_count": 12,
   "id": "9474000e-ab54-44df-ba71-bcd48d72bd77",
   "metadata": {},
   "outputs": [
    {
     "data": {
      "text/plain": [
       "-1"
      ]
     },
     "execution_count": 12,
     "metadata": {},
     "output_type": "execute_result"
    }
   ],
   "source": [
    "s.find('Sri')"
   ]
  },
  {
   "cell_type": "code",
   "execution_count": 13,
   "id": "ec17ee62-b040-438e-9e70-bca836b33b5c",
   "metadata": {},
   "outputs": [
    {
     "name": "stdout",
     "output_type": "stream",
     "text": [
      "14\n",
      "15\n",
      "16\n",
      "17\n",
      "18\n",
      "19\n",
      "20\n",
      "21\n"
     ]
    }
   ],
   "source": [
    "a = c.find(\"complete\")\n",
    "while c[a]!=' ':\n",
    "    print(a)\n",
    "    a=a+1"
   ]
  },
  {
   "cell_type": "code",
   "execution_count": 14,
   "id": "c05831eb-595b-4aaf-9bc5-df9955d84fff",
   "metadata": {},
   "outputs": [
    {
     "name": "stdout",
     "output_type": "stream",
     "text": [
      "3\n"
     ]
    }
   ],
   "source": [
    "b=\"My name is Srivatsa and my last name is Adharapurapu\"\n",
    "a=b.find(\"name\")\n",
    "print(a)"
   ]
  },
  {
   "cell_type": "code",
   "execution_count": 15,
   "id": "0e9ef106-892c-423f-8d7f-89ec9867a03a",
   "metadata": {},
   "outputs": [
    {
     "name": "stdout",
     "output_type": "stream",
     "text": [
      "2\n"
     ]
    }
   ],
   "source": [
    "a=b.count(\"name\")\n",
    "print(a)"
   ]
  },
  {
   "cell_type": "code",
   "execution_count": 16,
   "id": "32cd23ed-eca9-4e75-b2ed-3f3acc8e14dc",
   "metadata": {},
   "outputs": [
    {
     "data": {
      "text/plain": [
       "['I',\n",
       " 'am',\n",
       " 'going',\n",
       " 'to',\n",
       " 'complete',\n",
       " 'the',\n",
       " 'course,',\n",
       " \"that's\",\n",
       " 'why',\n",
       " 'I',\n",
       " 'am',\n",
       " 'going',\n",
       " 'to',\n",
       " 'be',\n",
       " 'better',\n",
       " 'version',\n",
       " 'of',\n",
       " 'myself']"
      ]
     },
     "execution_count": 16,
     "metadata": {},
     "output_type": "execute_result"
    }
   ],
   "source": [
    "c.split()"
   ]
  },
  {
   "cell_type": "code",
   "execution_count": 17,
   "id": "2e3beb9f-9c25-4a55-a61a-274aeb013d37",
   "metadata": {},
   "outputs": [
    {
     "data": {
      "text/plain": [
       "['I am going to complete ',\n",
       " \" course, that's why I am going to be better version of myself\"]"
      ]
     },
     "execution_count": 17,
     "metadata": {},
     "output_type": "execute_result"
    }
   ],
   "source": [
    "c.split('the')"
   ]
  },
  {
   "cell_type": "code",
   "execution_count": 18,
   "id": "69115261-5d39-4fe4-97de-9613a9ff5e90",
   "metadata": {},
   "outputs": [
    {
     "data": {
      "text/plain": [
       "list"
      ]
     },
     "execution_count": 18,
     "metadata": {},
     "output_type": "execute_result"
    }
   ],
   "source": [
    "type(c.split('the'))"
   ]
  },
  {
   "cell_type": "code",
   "execution_count": 19,
   "id": "96c72299-726f-451d-bbd2-45dc26202c25",
   "metadata": {},
   "outputs": [
    {
     "data": {
      "text/plain": [
       "\"I AM GOING TO COMPLETE THE COURSE, THAT'S WHY I AM GOING TO BE BETTER VERSION OF MYSELF\""
      ]
     },
     "execution_count": 19,
     "metadata": {},
     "output_type": "execute_result"
    }
   ],
   "source": [
    "c.upper()"
   ]
  },
  {
   "cell_type": "code",
   "execution_count": 20,
   "id": "d234545b-4069-4859-97f8-9385f7e12419",
   "metadata": {},
   "outputs": [
    {
     "data": {
      "text/plain": [
       "\"i am going to complete the course, that's why i am going to be better version of myself\""
      ]
     },
     "execution_count": 20,
     "metadata": {},
     "output_type": "execute_result"
    }
   ],
   "source": [
    "c.lower()"
   ]
  },
  {
   "cell_type": "code",
   "execution_count": 21,
   "id": "5f255ecd-8d65-4b80-9f74-5ba8975cb0f5",
   "metadata": {},
   "outputs": [
    {
     "data": {
      "text/plain": [
       "\"i AM GOING TO COMPLETE THE COURSE, THAT'S WHY i AM GOING TO BE BETTER VERSION OF MYSELF\""
      ]
     },
     "execution_count": 21,
     "metadata": {},
     "output_type": "execute_result"
    }
   ],
   "source": [
    "c.swapcase()"
   ]
  },
  {
   "cell_type": "code",
   "execution_count": 22,
   "id": "93528a92-93d2-4526-b2fe-eda042e4dad2",
   "metadata": {},
   "outputs": [
    {
     "data": {
      "text/plain": [
       "\"Is sasms sgsosisnsgs stsos scsosmspslsestses stshses scsosusrssses,s stshsasts'sss swshsys sIs sasms sgsosisnsgs stsos sbses sbseststsesrs svsesrsssisosns sosfs smsyssseslsf\""
      ]
     },
     "execution_count": 22,
     "metadata": {},
     "output_type": "execute_result"
    }
   ],
   "source": [
    "\"s\".join(c)"
   ]
  },
  {
   "cell_type": "code",
   "execution_count": 23,
   "id": "e2fcd177-1d44-4183-8d39-2ab526d29e32",
   "metadata": {},
   "outputs": [
    {
     "data": {
      "text/plain": [
       "\"I   a m   g o i n g   t o   c o m p l e t e   t h e   c o u r s e ,   t h a t ' s   w h y   I   a m   g o i n g   t o   b e   b e t t e r   v e r s i o n   o f   m y s e l f\""
      ]
     },
     "execution_count": 23,
     "metadata": {},
     "output_type": "execute_result"
    }
   ],
   "source": [
    "\" \".join(c)"
   ]
  },
  {
   "cell_type": "code",
   "execution_count": 24,
   "id": "54e6c874-d5d9-415d-a0d6-79e8ece6f925",
   "metadata": {},
   "outputs": [],
   "source": [
    "f=\"   Vat sa    w \""
   ]
  },
  {
   "cell_type": "code",
   "execution_count": 25,
   "id": "aad4e0d6-c63f-4c34-9161-d226e4d825e9",
   "metadata": {},
   "outputs": [
    {
     "data": {
      "text/plain": [
       "'Vat sa    w'"
      ]
     },
     "execution_count": 25,
     "metadata": {},
     "output_type": "execute_result"
    }
   ],
   "source": [
    "f.strip()"
   ]
  },
  {
   "cell_type": "code",
   "execution_count": 26,
   "id": "5166184b-fdd2-4766-9007-e8f6bdb698ad",
   "metadata": {},
   "outputs": [
    {
     "data": {
      "text/plain": [
       "'Vat sa    w '"
      ]
     },
     "execution_count": 26,
     "metadata": {},
     "output_type": "execute_result"
    }
   ],
   "source": [
    "f.lstrip()"
   ]
  },
  {
   "cell_type": "code",
   "execution_count": 27,
   "id": "e1f4d7fb-5b1d-410b-a194-f2c3f2923e49",
   "metadata": {},
   "outputs": [
    {
     "data": {
      "text/plain": [
       "'   Vat sa    w'"
      ]
     },
     "execution_count": 27,
     "metadata": {},
     "output_type": "execute_result"
    }
   ],
   "source": [
    "f.rstrip()"
   ]
  },
  {
   "cell_type": "code",
   "execution_count": 28,
   "id": "e1e886ba-ab31-447c-90e6-b83cfb448040",
   "metadata": {},
   "outputs": [],
   "source": [
    "s=c.replace(\"I\",\"You\") "
   ]
  },
  {
   "cell_type": "code",
   "execution_count": 29,
   "id": "909b0139-0b3c-4f1a-a894-90e11e8836ef",
   "metadata": {},
   "outputs": [
    {
     "data": {
      "text/plain": [
       "\"I am going to complete the course, that's why I am going to be better version of myself\""
      ]
     },
     "execution_count": 29,
     "metadata": {},
     "output_type": "execute_result"
    }
   ],
   "source": [
    "c"
   ]
  },
  {
   "cell_type": "code",
   "execution_count": 30,
   "id": "6012b751-c475-4583-b3f8-bebc0c9e259b",
   "metadata": {},
   "outputs": [
    {
     "data": {
      "text/plain": [
       "\"You am going to complete the course, that's why You am going to be better version of myself\""
      ]
     },
     "execution_count": 30,
     "metadata": {},
     "output_type": "execute_result"
    }
   ],
   "source": [
    "s"
   ]
  },
  {
   "cell_type": "code",
   "execution_count": 31,
   "id": "e63930b5-24e8-4e4a-b1b1-756424ac210b",
   "metadata": {},
   "outputs": [],
   "source": [
    "s=\"Sri Vatsa\""
   ]
  },
  {
   "cell_type": "code",
   "execution_count": 32,
   "id": "40df200a-78f2-4b1a-ad4a-a6c770ec156f",
   "metadata": {},
   "outputs": [
    {
     "data": {
      "text/plain": [
       "'sssssSri Vatsassssss'"
      ]
     },
     "execution_count": 32,
     "metadata": {},
     "output_type": "execute_result"
    }
   ],
   "source": [
    "s.center(20,'s')"
   ]
  },
  {
   "cell_type": "code",
   "execution_count": 33,
   "id": "fe6dc632-4753-41a8-83b4-574f0316dccc",
   "metadata": {},
   "outputs": [
    {
     "data": {
      "text/plain": [
       "'Sri Vatsa'"
      ]
     },
     "execution_count": 33,
     "metadata": {},
     "output_type": "execute_result"
    }
   ],
   "source": [
    "s.expandtabs()"
   ]
  },
  {
   "cell_type": "code",
   "execution_count": 34,
   "id": "87fa1c00-ba9a-45b2-9453-fb6c88b27c5b",
   "metadata": {},
   "outputs": [
    {
     "data": {
      "text/plain": [
       "'we all are a part of full stack'"
      ]
     },
     "execution_count": 34,
     "metadata": {},
     "output_type": "execute_result"
    }
   ],
   "source": [
    "a = \"We all are a part of Full Stack\"\n",
    "a.lower()"
   ]
  },
  {
   "cell_type": "code",
   "execution_count": 35,
   "id": "1bd85b29-1831-4a46-9b12-2de0d2e6e28f",
   "metadata": {},
   "outputs": [
    {
     "data": {
      "text/plain": [
       "5"
      ]
     },
     "execution_count": 35,
     "metadata": {},
     "output_type": "execute_result"
    }
   ],
   "source": [
    "a.count('a')"
   ]
  },
  {
   "cell_type": "code",
   "execution_count": 36,
   "id": "cdf18833-427d-4c92-ab78-9a36aa2f7b41",
   "metadata": {},
   "outputs": [
    {
     "name": "stdout",
     "output_type": "stream",
     "text": [
      "3\n",
      "7\n",
      "11\n",
      "14\n",
      "28\n"
     ]
    }
   ],
   "source": [
    "for i in range(len(a)):\n",
    "    if a[i] == 'a':\n",
    "        print(i)\n",
    "    "
   ]
  },
  {
   "cell_type": "code",
   "execution_count": 37,
   "id": "1b34b225-0b5a-45c8-a3a6-75ec20f368e8",
   "metadata": {},
   "outputs": [
    {
     "data": {
      "text/plain": [
       "'We iNeuronll iNeuronre iNeuron piNeuronrt of Full StiNeuronck'"
      ]
     },
     "execution_count": 37,
     "metadata": {},
     "output_type": "execute_result"
    }
   ],
   "source": [
    "a.replace(\"a\",\"iNeuron\")"
   ]
  },
  {
   "cell_type": "code",
   "execution_count": 38,
   "id": "cdb5efc2-2d62-4c41-b9d7-dca44fbe64f1",
   "metadata": {},
   "outputs": [
    {
     "name": "stdout",
     "output_type": "stream",
     "text": [
      "['W']\n",
      "['e']\n",
      "[' ']\n",
      "['a']\n",
      "['l']\n",
      "['l']\n",
      "[' ']\n",
      "['a']\n",
      "['r']\n",
      "['e']\n",
      "[' ']\n",
      "['a']\n",
      "[' ']\n",
      "['p']\n",
      "['a']\n",
      "['r']\n",
      "['t']\n",
      "[' ']\n",
      "['o']\n",
      "['f']\n",
      "[' ']\n",
      "['F']\n",
      "['u']\n",
      "['l']\n",
      "['l']\n",
      "[' ']\n",
      "['S']\n",
      "['t']\n",
      "['a']\n",
      "['c']\n",
      "['k']\n"
     ]
    }
   ],
   "source": [
    "for i in a:\n",
    "    print(list(i))"
   ]
  },
  {
   "cell_type": "code",
   "execution_count": 39,
   "id": "1a818b50-e9a9-4933-8aad-c966a659d69e",
   "metadata": {},
   "outputs": [
    {
     "data": {
      "text/plain": [
       "['We', 'all', 'are', 'a', 'part', 'of', 'Full', 'Stack']"
      ]
     },
     "execution_count": 39,
     "metadata": {},
     "output_type": "execute_result"
    }
   ],
   "source": [
    "a.split()"
   ]
  },
  {
   "cell_type": "code",
   "execution_count": 40,
   "id": "c3b4186b-aa10-4c23-88c6-374d77ac618e",
   "metadata": {},
   "outputs": [
    {
     "data": {
      "text/plain": [
       "'We all are a part of Full Stack data science course'"
      ]
     },
     "execution_count": 40,
     "metadata": {},
     "output_type": "execute_result"
    }
   ],
   "source": [
    "a + \" data science course\""
   ]
  },
  {
   "cell_type": "markdown",
   "id": "a5e1816b-7002-44b5-be47-f014e30c987b",
   "metadata": {},
   "source": [
    "### all methods of strings starting with is for example isnull(),isupper(),etc always return a boolean value"
   ]
  },
  {
   "cell_type": "code",
   "execution_count": 42,
   "id": "85f388e8-6466-408e-920a-2982e3472678",
   "metadata": {},
   "outputs": [
    {
     "data": {
      "text/plain": [
       "False"
      ]
     },
     "execution_count": 42,
     "metadata": {},
     "output_type": "execute_result"
    }
   ],
   "source": [
    "s.isdigit()"
   ]
  },
  {
   "cell_type": "code",
   "execution_count": 43,
   "id": "a25a74f9-1c5f-4b9b-b8d2-bdd9505edad9",
   "metadata": {},
   "outputs": [
    {
     "data": {
      "text/plain": [
       "False"
      ]
     },
     "execution_count": 43,
     "metadata": {},
     "output_type": "execute_result"
    }
   ],
   "source": [
    "s.endswith('e')"
   ]
  },
  {
   "cell_type": "code",
   "execution_count": 44,
   "id": "789fee70-f8e7-456d-abbc-c775038d8c9b",
   "metadata": {},
   "outputs": [
    {
     "data": {
      "text/plain": [
       "False"
      ]
     },
     "execution_count": 44,
     "metadata": {},
     "output_type": "execute_result"
    }
   ],
   "source": [
    "s.startswith('t')"
   ]
  },
  {
   "cell_type": "code",
   "execution_count": null,
   "id": "2a33adca-42c9-4307-b590-9f8a31806d81",
   "metadata": {},
   "outputs": [],
   "source": []
  },
  {
   "cell_type": "code",
   "execution_count": 45,
   "id": "9c79c314-0014-4e1f-8377-b6555a909bbc",
   "metadata": {},
   "outputs": [
    {
     "data": {
      "text/plain": [
       "'Vatsa is my name'"
      ]
     },
     "execution_count": 45,
     "metadata": {},
     "output_type": "execute_result"
    }
   ],
   "source": [
    "\"{} is my name\".format(\"Vatsa\")"
   ]
  },
  {
   "cell_type": "code",
   "execution_count": null,
   "id": "a22a6e68-570f-4f25-b4c9-ab3a4d84f3fe",
   "metadata": {},
   "outputs": [],
   "source": []
  },
  {
   "cell_type": "code",
   "execution_count": 50,
   "id": "995e7340-4911-494e-adaf-a0a1b02b9a42",
   "metadata": {},
   "outputs": [
    {
     "name": "stdin",
     "output_type": "stream",
     "text": [
      " Vatsa\n",
      " name\n"
     ]
    }
   ],
   "source": [
    "a=input()\n",
    "b=input()"
   ]
  },
  {
   "cell_type": "code",
   "execution_count": 51,
   "id": "a4b1a6ee-540a-4fb8-8b13-45630d4457e6",
   "metadata": {},
   "outputs": [
    {
     "data": {
      "text/plain": [
       "'Vatsa is my name'"
      ]
     },
     "execution_count": 51,
     "metadata": {},
     "output_type": "execute_result"
    }
   ],
   "source": [
    "\"{} is my {}\".format(a,b)"
   ]
  },
  {
   "cell_type": "code",
   "execution_count": 85,
   "id": "0b823802-a1bd-4d4b-bfda-be2d53b9d084",
   "metadata": {},
   "outputs": [
    {
     "name": "stdin",
     "output_type": "stream",
     "text": [
      "Enter data to check if it is a palindrome or not : nursesrun\n"
     ]
    },
    {
     "name": "stdout",
     "output_type": "stream",
     "text": [
      "It is a palindrome\n"
     ]
    }
   ],
   "source": [
    "#Palindromes\n",
    "s = input(\"Enter data to check if it is a palindrome or not :\")\n",
    "s1=s[::-1]\n",
    "if s==s1:\n",
    "    print(\"It is a palindrome\")\n",
    "else:\n",
    "    print(\"It is not a palindrome\")"
   ]
  },
  {
   "cell_type": "code",
   "execution_count": 88,
   "id": "15a59964-dee8-4b6a-86d5-878a9ff4b25b",
   "metadata": {},
   "outputs": [
    {
     "data": {
      "text/plain": [
       "'Srivatsa'"
      ]
     },
     "execution_count": 88,
     "metadata": {},
     "output_type": "execute_result"
    }
   ],
   "source": [
    "s = \"Srivatsa\"\n",
    "l = len(s)\n",
    "s[0:l+1]"
   ]
  },
  {
   "cell_type": "code",
   "execution_count": 89,
   "id": "99ffec06-d6cb-40f9-9154-1a798ccd5b58",
   "metadata": {},
   "outputs": [
    {
     "data": {
      "text/plain": [
       "'vats'"
      ]
     },
     "execution_count": 89,
     "metadata": {},
     "output_type": "execute_result"
    }
   ],
   "source": [
    "s[-5:-1]"
   ]
  },
  {
   "cell_type": "code",
   "execution_count": 90,
   "id": "689bfbfe-a69e-4c9e-ac0c-ebdf0bc59f90",
   "metadata": {},
   "outputs": [
    {
     "data": {
      "text/plain": [
       "'Sias'"
      ]
     },
     "execution_count": 90,
     "metadata": {},
     "output_type": "execute_result"
    }
   ],
   "source": [
    "s[0:l+1:2]"
   ]
  },
  {
   "cell_type": "code",
   "execution_count": 91,
   "id": "0da75f90-e34b-4aea-8c9d-d10f9d72ee37",
   "metadata": {},
   "outputs": [
    {
     "data": {
      "text/plain": [
       "'astavirS'"
      ]
     },
     "execution_count": 91,
     "metadata": {},
     "output_type": "execute_result"
    }
   ],
   "source": [
    "s[l::-1]"
   ]
  }
 ],
 "metadata": {
  "kernelspec": {
   "display_name": "Python 3 (ipykernel)",
   "language": "python",
   "name": "python3"
  },
  "language_info": {
   "codemirror_mode": {
    "name": "ipython",
    "version": 3
   },
   "file_extension": ".py",
   "mimetype": "text/x-python",
   "name": "python",
   "nbconvert_exporter": "python",
   "pygments_lexer": "ipython3",
   "version": "3.12.7"
  }
 },
 "nbformat": 4,
 "nbformat_minor": 5
}
