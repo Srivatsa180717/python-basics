{
 "cells": [
  {
   "cell_type": "code",
   "execution_count": 3,
   "id": "6ac0d7a7-e9a9-40fe-bc6d-8736b3852c79",
   "metadata": {},
   "outputs": [],
   "source": [
    "x = {}"
   ]
  },
  {
   "cell_type": "markdown",
   "id": "15354e86-fb79-4e1a-aea7-9e4722ee698a",
   "metadata": {},
   "source": [
    "# By default x is considered as a dictionary \n",
    "# By the type of values we add into it becomes a dictionary or a set"
   ]
  },
  {
   "cell_type": "code",
   "execution_count": 4,
   "id": "1aad3648-d096-402e-9552-aba0462d7bb7",
   "metadata": {},
   "outputs": [
    {
     "data": {
      "text/plain": [
       "dict"
      ]
     },
     "execution_count": 4,
     "metadata": {},
     "output_type": "execute_result"
    }
   ],
   "source": [
    "type(x)"
   ]
  },
  {
   "cell_type": "code",
   "execution_count": 5,
   "id": "58ef4949-6b2e-43c9-9400-23cfdc8b11ad",
   "metadata": {},
   "outputs": [],
   "source": [
    "x1 = {1,2,3}"
   ]
  },
  {
   "cell_type": "code",
   "execution_count": 6,
   "id": "54e436cc-cd40-4df7-82b4-d49d674a9fff",
   "metadata": {},
   "outputs": [
    {
     "data": {
      "text/plain": [
       "set"
      ]
     },
     "execution_count": 6,
     "metadata": {},
     "output_type": "execute_result"
    }
   ],
   "source": [
    "type(x1)"
   ]
  },
  {
   "cell_type": "code",
   "execution_count": 7,
   "id": "7afdbbc5-985e-46d7-b619-b259cd2f1e9e",
   "metadata": {},
   "outputs": [],
   "source": [
    "x = {'name':'Vatsa','age': 21}"
   ]
  },
  {
   "cell_type": "code",
   "execution_count": 8,
   "id": "5659fc9e-e58d-4439-86e4-3a39dc421520",
   "metadata": {},
   "outputs": [
    {
     "data": {
      "text/plain": [
       "dict_keys(['name', 'age'])"
      ]
     },
     "execution_count": 8,
     "metadata": {},
     "output_type": "execute_result"
    }
   ],
   "source": [
    "x.keys()"
   ]
  },
  {
   "cell_type": "code",
   "execution_count": 9,
   "id": "0522b88e-7dcc-4dd8-a0ab-e9d5c6ad3fe4",
   "metadata": {},
   "outputs": [
    {
     "data": {
      "text/plain": [
       "dict_values(['Vatsa', 21])"
      ]
     },
     "execution_count": 9,
     "metadata": {},
     "output_type": "execute_result"
    }
   ],
   "source": [
    "x.values()"
   ]
  },
  {
   "cell_type": "code",
   "execution_count": 10,
   "id": "9030d3c3-b5f4-4282-8204-0ce18bae2ab4",
   "metadata": {},
   "outputs": [],
   "source": [
    "x1= {'name':\"Vatsa\",'age':21,'name':\"Srivatsa\",True:\"sdbsihd\",448:\"Enrollment\"}"
   ]
  },
  {
   "cell_type": "code",
   "execution_count": 11,
   "id": "691b5d0e-608a-4989-91ae-8fe0aff05c88",
   "metadata": {},
   "outputs": [
    {
     "data": {
      "text/plain": [
       "{'name': 'Srivatsa', 'age': 21, True: 'sdbsihd', 448: 'Enrollment'}"
      ]
     },
     "execution_count": 11,
     "metadata": {},
     "output_type": "execute_result"
    }
   ],
   "source": [
    "x1 "
   ]
  },
  {
   "cell_type": "markdown",
   "id": "b8588bed-d749-405b-a0ae-fbebb5cf7057",
   "metadata": {},
   "source": [
    "# When there are duplicates it always takes only the last time the key repeats"
   ]
  },
  {
   "cell_type": "markdown",
   "id": "d075c1d8-1d16-48fd-92b2-56c29f0ddaca",
   "metadata": {},
   "source": [
    "# Dictionary doesn't support duplicate values, there can be duplicate values but not duplicate leys"
   ]
  },
  {
   "cell_type": "markdown",
   "id": "54ad3303-481c-49b2-b740-43c01fbb73af",
   "metadata": {},
   "source": [
    "# In dictionary special characters and lists cannot be used as keys\n",
    "# tuples and numbers,charaters,strings,boolean can be used as key values"
   ]
  },
  {
   "cell_type": "code",
   "execution_count": 13,
   "id": "e0ce0caa-ae76-49e4-a9b3-8c24b83f213a",
   "metadata": {},
   "outputs": [],
   "source": [
    "x2={(1,2,3):\"Tuple\",'Nested':{'Name':\"Vatsa\",'age':21}}"
   ]
  },
  {
   "cell_type": "code",
   "execution_count": 14,
   "id": "3054ac46-27ae-4afa-b896-c0cf79d0edae",
   "metadata": {},
   "outputs": [
    {
     "data": {
      "text/plain": [
       "'Vatsa'"
      ]
     },
     "execution_count": 14,
     "metadata": {},
     "output_type": "execute_result"
    }
   ],
   "source": [
    "x2[\"Nested\"][\"Name\"]"
   ]
  },
  {
   "cell_type": "code",
   "execution_count": 15,
   "id": "26f8d522-fc51-4a80-b0c9-f0dba731643d",
   "metadata": {},
   "outputs": [],
   "source": [
    "x2[\"Nested\"][\"Name\"] = \"Srivatsa\""
   ]
  },
  {
   "cell_type": "markdown",
   "id": "277e7e2a-5bea-4027-89b3-f485d21b1211",
   "metadata": {},
   "source": [
    "# Dictionaries are mutable like lists\n",
    "# tuples and sets are immutable"
   ]
  },
  {
   "cell_type": "code",
   "execution_count": 34,
   "id": "66e32627-0d22-4269-9c28-7c3fbbbcb900",
   "metadata": {},
   "outputs": [
    {
     "data": {
      "text/plain": [
       "'Srivatsa'"
      ]
     },
     "execution_count": 34,
     "metadata": {},
     "output_type": "execute_result"
    }
   ],
   "source": [
    "x2[\"Nested\"][\"Name\"]"
   ]
  },
  {
   "cell_type": "code",
   "execution_count": 35,
   "id": "521f22c4-245f-49d6-a340-dbc813eaf7c7",
   "metadata": {},
   "outputs": [
    {
     "data": {
      "text/plain": [
       "True"
      ]
     },
     "execution_count": 35,
     "metadata": {},
     "output_type": "execute_result"
    }
   ],
   "source": [
    "\"Nested\" in x2.keys()"
   ]
  },
  {
   "cell_type": "code",
   "execution_count": 36,
   "id": "7e77dbb4-a884-4e2d-b4bc-bbb0a3b09ad6",
   "metadata": {},
   "outputs": [
    {
     "name": "stdout",
     "output_type": "stream",
     "text": [
      "(1, 2, 3)\n",
      "Nested\n"
     ]
    }
   ],
   "source": [
    "for i in x2:\n",
    "    print(i)"
   ]
  },
  {
   "cell_type": "code",
   "execution_count": 37,
   "id": "63600a34-3f81-4f5b-ad25-530d477a8b11",
   "metadata": {},
   "outputs": [
    {
     "name": "stdout",
     "output_type": "stream",
     "text": [
      "Tuple\n",
      "{'Name': 'Srivatsa', 'age': 21}\n"
     ]
    }
   ],
   "source": [
    "for i in x2.values():\n",
    "    print(i)"
   ]
  },
  {
   "cell_type": "code",
   "execution_count": 16,
   "id": "5a6421ba-92f3-4ebf-8bf3-82ebc66f8428",
   "metadata": {},
   "outputs": [
    {
     "name": "stdout",
     "output_type": "stream",
     "text": [
      "<class 'str'>\n",
      "<class 'dict'>\n"
     ]
    }
   ],
   "source": [
    "for i in x2:\n",
    "    print(type(x2[i]))"
   ]
  },
  {
   "cell_type": "markdown",
   "id": "74f6c283-bf92-4572-8a98-ee00c16177f8",
   "metadata": {},
   "source": [
    "# We are getting the types of values"
   ]
  },
  {
   "cell_type": "code",
   "execution_count": 18,
   "id": "7445593e-7f49-47cf-8968-c33a5753215d",
   "metadata": {},
   "outputs": [
    {
     "name": "stdout",
     "output_type": "stream",
     "text": [
      "<class 'tuple'>\n",
      "<class 'str'>\n"
     ]
    }
   ],
   "source": [
    "for i in x2:\n",
    "    print(type(i))"
   ]
  },
  {
   "cell_type": "markdown",
   "id": "4ecdac34-5d38-4fb4-9f83-f09a64f29080",
   "metadata": {},
   "source": [
    "# These are the types of values"
   ]
  },
  {
   "cell_type": "code",
   "execution_count": 45,
   "id": "82f00733-2cab-457b-9aa1-aa6e2873867e",
   "metadata": {},
   "outputs": [
    {
     "name": "stdout",
     "output_type": "stream",
     "text": [
      "Srivatsa\n",
      "Srivatsa\n"
     ]
    }
   ],
   "source": [
    "for i in x2:\n",
    "    print(x2['Nested']['Name'])"
   ]
  },
  {
   "cell_type": "code",
   "execution_count": 46,
   "id": "ebe20d1a-bb30-4b99-a682-642f1fe5f58f",
   "metadata": {},
   "outputs": [
    {
     "data": {
      "text/plain": [
       "[1, 2, 3, 4]"
      ]
     },
     "execution_count": 46,
     "metadata": {},
     "output_type": "execute_result"
    }
   ],
   "source": [
    "e = {56:[1,2,3,4]}\n",
    "e[56]"
   ]
  },
  {
   "cell_type": "code",
   "execution_count": 47,
   "id": "c20e1b2d-b1f6-40e9-8a55-bfd3e827b328",
   "metadata": {},
   "outputs": [],
   "source": [
    "d = {\"company\":\"INeuron\",\"Course\":\"Full stack data science\",\"year\":2025}"
   ]
  },
  {
   "cell_type": "code",
   "execution_count": 48,
   "id": "3f623a07-0533-42db-aadc-0226ac78a62a",
   "metadata": {},
   "outputs": [
    {
     "name": "stdout",
     "output_type": "stream",
     "text": [
      "company\n",
      "INeuron\n",
      "Course\n",
      "Full stack data science\n",
      "year\n",
      "2025\n"
     ]
    }
   ],
   "source": [
    "for i in d:\n",
    "    print(i)\n",
    "    print(d[i])"
   ]
  },
  {
   "cell_type": "code",
   "execution_count": 49,
   "id": "4aa2aef7-a492-4802-b7bf-c779d8680539",
   "metadata": {},
   "outputs": [
    {
     "data": {
      "text/plain": [
       "True"
      ]
     },
     "execution_count": 49,
     "metadata": {},
     "output_type": "execute_result"
    }
   ],
   "source": [
    "\"Course\" in d"
   ]
  },
  {
   "cell_type": "code",
   "execution_count": 51,
   "id": "05e4a0b6-3b12-431c-8464-9fe2c8d8b8c7",
   "metadata": {},
   "outputs": [],
   "source": [
    "for i in d:\n",
    "    if i == 'year':\n",
    "        if d[i]>2025:\n",
    "            print(\"Year is fine\")\n",
    "        else:\n",
    "            d[i]=2026"
   ]
  },
  {
   "cell_type": "code",
   "execution_count": 52,
   "id": "9d1a7792-bc31-4d46-b699-d1f748edd33b",
   "metadata": {},
   "outputs": [
    {
     "data": {
      "text/plain": [
       "{'company': 'INeuron', 'Course': 'Full stack data science', 'year': 2026}"
      ]
     },
     "execution_count": 52,
     "metadata": {},
     "output_type": "execute_result"
    }
   ],
   "source": [
    "d"
   ]
  },
  {
   "cell_type": "code",
   "execution_count": 54,
   "id": "a3b4612b-0303-4c4e-877d-da330016d0ef",
   "metadata": {},
   "outputs": [],
   "source": [
    "dict={}\n",
    "for i in range(10):\n",
    "    dict[i] = i*i"
   ]
  },
  {
   "cell_type": "code",
   "execution_count": 55,
   "id": "087976f0-8567-462c-b386-19596b5cb400",
   "metadata": {},
   "outputs": [
    {
     "data": {
      "text/plain": [
       "{0: 0, 1: 1, 2: 4, 3: 9, 4: 16, 5: 25, 6: 36, 7: 49, 8: 64, 9: 81}"
      ]
     },
     "execution_count": 55,
     "metadata": {},
     "output_type": "execute_result"
    }
   ],
   "source": [
    "dict"
   ]
  },
  {
   "cell_type": "code",
   "execution_count": 57,
   "id": "cfc1ec87-6998-4d7d-9dd9-640cc367c478",
   "metadata": {},
   "outputs": [
    {
     "data": {
      "text/plain": [
       "{0: 0, 1: 1, 2: 4, 3: 9, 4: 16, 5: 25, 6: 36, 7: 49, 8: 64, 9: 81}"
      ]
     },
     "execution_count": 57,
     "metadata": {},
     "output_type": "execute_result"
    }
   ],
   "source": [
    "{i:i*i for i in range(10)}"
   ]
  },
  {
   "cell_type": "code",
   "execution_count": 58,
   "id": "e21ba8b9-8843-4fb8-af6d-b9fae8f0c398",
   "metadata": {},
   "outputs": [
    {
     "data": {
      "text/plain": [
       "{0: 0, 3: 9, 6: 36, 9: 81}"
      ]
     },
     "execution_count": 58,
     "metadata": {},
     "output_type": "execute_result"
    }
   ],
   "source": [
    "{i:i*i for i in range(0,10,3)}"
   ]
  },
  {
   "cell_type": "code",
   "execution_count": null,
   "id": "4c2f2859-10cc-45da-8039-bd917866e8a3",
   "metadata": {},
   "outputs": [],
   "source": [
    " "
   ]
  }
 ],
 "metadata": {
  "kernelspec": {
   "display_name": "Python 3 (ipykernel)",
   "language": "python",
   "name": "python3"
  },
  "language_info": {
   "codemirror_mode": {
    "name": "ipython",
    "version": 3
   },
   "file_extension": ".py",
   "mimetype": "text/x-python",
   "name": "python",
   "nbconvert_exporter": "python",
   "pygments_lexer": "ipython3",
   "version": "3.12.7"
  }
 },
 "nbformat": 4,
 "nbformat_minor": 5
}
