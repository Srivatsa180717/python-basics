{
 "cells": [
  {
   "cell_type": "code",
   "execution_count": 1,
   "id": "8670f51e-0ab3-4266-8b11-cd72074a660a",
   "metadata": {},
   "outputs": [],
   "source": [
    "t = ()"
   ]
  },
  {
   "cell_type": "code",
   "execution_count": 2,
   "id": "17ed0197-87c5-404a-983e-ee8dad9e16a8",
   "metadata": {},
   "outputs": [
    {
     "data": {
      "text/plain": [
       "tuple"
      ]
     },
     "execution_count": 2,
     "metadata": {},
     "output_type": "execute_result"
    }
   ],
   "source": [
    "type(t)"
   ]
  },
  {
   "cell_type": "code",
   "execution_count": 3,
   "id": "a181687c-2773-44b5-a19c-305453634592",
   "metadata": {},
   "outputs": [],
   "source": [
    "t1 = (53,1,\"Vatsa\",5+6j,True)"
   ]
  },
  {
   "cell_type": "code",
   "execution_count": 4,
   "id": "213e7535-97ce-42f7-b584-8ba4e455f6fc",
   "metadata": {},
   "outputs": [
    {
     "data": {
      "text/plain": [
       "(53, 1, 'Vatsa', (5+6j))"
      ]
     },
     "execution_count": 4,
     "metadata": {},
     "output_type": "execute_result"
    }
   ],
   "source": [
    "t1[0:4]"
   ]
  },
  {
   "cell_type": "code",
   "execution_count": 5,
   "id": "454bc057-afb7-4ed9-9ae0-e76be4a3e05e",
   "metadata": {},
   "outputs": [],
   "source": [
    "l=[1,2,3]\n"
   ]
  },
  {
   "cell_type": "code",
   "execution_count": 6,
   "id": "49e2ef15-62e5-4969-a72c-708cd54c1ad2",
   "metadata": {},
   "outputs": [],
   "source": [
    "l[0]=2"
   ]
  },
  {
   "cell_type": "code",
   "execution_count": 7,
   "id": "f1bdc080-2a0a-4e12-9283-b8bf42c76b17",
   "metadata": {},
   "outputs": [
    {
     "data": {
      "text/plain": [
       "[2, 2, 3]"
      ]
     },
     "execution_count": 7,
     "metadata": {},
     "output_type": "execute_result"
    }
   ],
   "source": [
    "l "
   ]
  },
  {
   "cell_type": "markdown",
   "id": "2bb757db-36ad-4641-bcb4-68266c844518",
   "metadata": {},
   "source": [
    "# Lists are mutable"
   ]
  },
  {
   "cell_type": "code",
   "execution_count": 8,
   "id": "26b05fb3-1ec7-418f-8e9d-b29f4526a854",
   "metadata": {},
   "outputs": [
    {
     "ename": "TypeError",
     "evalue": "'tuple' object does not support item assignment",
     "output_type": "error",
     "traceback": [
      "\u001b[1;31m---------------------------------------------------------------------------\u001b[0m",
      "\u001b[1;31mTypeError\u001b[0m                                 Traceback (most recent call last)",
      "Cell \u001b[1;32mIn[8], line 1\u001b[0m\n\u001b[1;32m----> 1\u001b[0m t1[\u001b[38;5;241m0\u001b[39m]\u001b[38;5;241m=\u001b[39m\u001b[38;5;241m0\u001b[39m\n",
      "\u001b[1;31mTypeError\u001b[0m: 'tuple' object does not support item assignment"
     ]
    }
   ],
   "source": [
    "t1[0]=0 "
   ]
  },
  {
   "cell_type": "markdown",
   "id": "9afcbeff-c203-4a8e-9fed-0b8f431b0ead",
   "metadata": {},
   "source": [
    "# Tuples are immutable"
   ]
  },
  {
   "cell_type": "code",
   "execution_count": 9,
   "id": "97d942a1-5fa7-4862-bed9-f4abaecf097c",
   "metadata": {},
   "outputs": [],
   "source": [
    "t2=(1,2,3,4)"
   ]
  },
  {
   "cell_type": "code",
   "execution_count": 10,
   "id": "a42068e9-a806-4b4e-978f-add8dff75cc0",
   "metadata": {},
   "outputs": [
    {
     "data": {
      "text/plain": [
       "(53, 1, 'Vatsa', (5+6j), True, 1, 2, 3, 4)"
      ]
     },
     "execution_count": 10,
     "metadata": {},
     "output_type": "execute_result"
    }
   ],
   "source": [
    "t1+t2"
   ]
  },
  {
   "cell_type": "code",
   "execution_count": 11,
   "id": "183fc3bf-f17e-4a00-892b-815665c0e5cf",
   "metadata": {},
   "outputs": [
    {
     "data": {
      "text/plain": [
       "(53,\n",
       " 1,\n",
       " 'Vatsa',\n",
       " (5+6j),\n",
       " True,\n",
       " 53,\n",
       " 1,\n",
       " 'Vatsa',\n",
       " (5+6j),\n",
       " True,\n",
       " 53,\n",
       " 1,\n",
       " 'Vatsa',\n",
       " (5+6j),\n",
       " True)"
      ]
     },
     "execution_count": 11,
     "metadata": {},
     "output_type": "execute_result"
    }
   ],
   "source": [
    "t1*3"
   ]
  },
  {
   "cell_type": "code",
   "execution_count": 12,
   "id": "d2d52fb2-5ba4-4f91-bf98-ba94c37896f0",
   "metadata": {},
   "outputs": [
    {
     "ename": "TypeError",
     "evalue": "'>' not supported between instances of 'str' and 'int'",
     "output_type": "error",
     "traceback": [
      "\u001b[1;31m---------------------------------------------------------------------------\u001b[0m",
      "\u001b[1;31mTypeError\u001b[0m                                 Traceback (most recent call last)",
      "Cell \u001b[1;32mIn[12], line 1\u001b[0m\n\u001b[1;32m----> 1\u001b[0m \u001b[38;5;28mmax\u001b[39m(t1)\n",
      "\u001b[1;31mTypeError\u001b[0m: '>' not supported between instances of 'str' and 'int'"
     ]
    }
   ],
   "source": [
    "max(t1) "
   ]
  },
  {
   "cell_type": "markdown",
   "id": "5da4117f-3e5f-4f50-ad90-9880de69a29c",
   "metadata": {},
   "source": [
    "# Only when a tuple has numeric data max function can be used"
   ]
  },
  {
   "cell_type": "code",
   "execution_count": 13,
   "id": "94b0b0d7-74f4-4934-8108-8d5b611a2b5c",
   "metadata": {},
   "outputs": [
    {
     "data": {
      "text/plain": [
       "5"
      ]
     },
     "execution_count": 13,
     "metadata": {},
     "output_type": "execute_result"
    }
   ],
   "source": [
    "t3=(1,2,3,4,5)\n",
    "max(t3)"
   ]
  },
  {
   "cell_type": "code",
   "execution_count": 14,
   "id": "8d38575e-5e27-4d52-bcc7-1182003d9816",
   "metadata": {},
   "outputs": [
    {
     "data": {
      "text/plain": [
       "0"
      ]
     },
     "execution_count": 14,
     "metadata": {},
     "output_type": "execute_result"
    }
   ],
   "source": [
    "t1.index(53)"
   ]
  },
  {
   "cell_type": "code",
   "execution_count": 15,
   "id": "33301a2f-c78f-44c2-baf0-1c85b68a3559",
   "metadata": {},
   "outputs": [
    {
     "data": {
      "text/plain": [
       "1"
      ]
     },
     "execution_count": 15,
     "metadata": {},
     "output_type": "execute_result"
    }
   ],
   "source": [
    "t1.count(53)"
   ]
  },
  {
   "cell_type": "code",
   "execution_count": 16,
   "id": "b9adaeb4-b7eb-409e-9a4c-93cbbb1661c2",
   "metadata": {},
   "outputs": [],
   "source": [
    "t3 = ((1,2,3),(4,5,6),(7,8,9),[15,16,17,18])"
   ]
  },
  {
   "cell_type": "code",
   "execution_count": 17,
   "id": "1e34276f-fab1-4b59-874b-fa518029d153",
   "metadata": {},
   "outputs": [
    {
     "data": {
      "text/plain": [
       "(7, 8)"
      ]
     },
     "execution_count": 17,
     "metadata": {},
     "output_type": "execute_result"
    }
   ],
   "source": [
    "t3[2][0:2]"
   ]
  },
  {
   "cell_type": "code",
   "execution_count": 18,
   "id": "8f65bf2d-a032-4f50-88ed-94d36e7c8242",
   "metadata": {},
   "outputs": [
    {
     "data": {
      "text/plain": [
       "[16, 17]"
      ]
     },
     "execution_count": 18,
     "metadata": {},
     "output_type": "execute_result"
    }
   ],
   "source": [
    "t3[3][1:3]"
   ]
  },
  {
   "cell_type": "code",
   "execution_count": 19,
   "id": "9308f061-5cb4-4fbc-a874-bb3a914e834f",
   "metadata": {},
   "outputs": [],
   "source": [
    "del(t3)"
   ]
  },
  {
   "cell_type": "code",
   "execution_count": 20,
   "id": "05052d60-2123-409a-8f13-733173365db8",
   "metadata": {},
   "outputs": [
    {
     "ename": "NameError",
     "evalue": "name 't3' is not defined",
     "output_type": "error",
     "traceback": [
      "\u001b[1;31m---------------------------------------------------------------------------\u001b[0m",
      "\u001b[1;31mNameError\u001b[0m                                 Traceback (most recent call last)",
      "Cell \u001b[1;32mIn[20], line 1\u001b[0m\n\u001b[1;32m----> 1\u001b[0m t3\n",
      "\u001b[1;31mNameError\u001b[0m: name 't3' is not defined"
     ]
    }
   ],
   "source": [
    "t3"
   ]
  },
  {
   "cell_type": "code",
   "execution_count": 21,
   "id": "103f6960-a6d1-4544-9c18-094ce3321eae",
   "metadata": {},
   "outputs": [
    {
     "name": "stdin",
     "output_type": "stream",
     "text": [
      "Type the data you want to check if available in the tuple int\n"
     ]
    },
    {
     "name": "stdout",
     "output_type": "stream",
     "text": [
      "No it doesn't exist\n"
     ]
    }
   ],
   "source": [
    "a = input(\"Type the data you want to check if available in the tuple\")\n",
    "if a in t1:\n",
    "    print(\"Yes it exists\")\n",
    "else:\n",
    "    print(\"No it doesn't exist\")"
   ]
  },
  {
   "cell_type": "markdown",
   "id": "e867ee5f-401d-469d-a2a1-31aa0c95bd54",
   "metadata": {},
   "source": [
    "# You can perform only index and count functions in tuples as they are immutble, \n",
    "# Due to this we need to convert the tuple into a list and perform any operation we want and then convert it back into a tuple"
   ]
  },
  {
   "cell_type": "code",
   "execution_count": null,
   "id": "458df47f-4763-4a45-a068-c21a8763bd98",
   "metadata": {},
   "outputs": [],
   "source": []
  }
 ],
 "metadata": {
  "kernelspec": {
   "display_name": "Python 3 (ipykernel)",
   "language": "python",
   "name": "python3"
  },
  "language_info": {
   "codemirror_mode": {
    "name": "ipython",
    "version": 3
   },
   "file_extension": ".py",
   "mimetype": "text/x-python",
   "name": "python",
   "nbconvert_exporter": "python",
   "pygments_lexer": "ipython3",
   "version": "3.12.7"
  }
 },
 "nbformat": 4,
 "nbformat_minor": 5
}
