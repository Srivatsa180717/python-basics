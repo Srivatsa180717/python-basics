{
 "cells": [
  {
   "cell_type": "code",
   "execution_count": 22,
   "id": "7208027c-7f8f-4b06-9837-616be5684f5d",
   "metadata": {},
   "outputs": [
    {
     "name": "stdout",
     "output_type": "stream",
     "text": [
      "This is my first python program\n"
     ]
    }
   ],
   "source": [
    "print(\"This is my first python program\")"
   ]
  },
  {
   "cell_type": "code",
   "execution_count": 23,
   "id": "19413230-6011-4016-bc26-f37dd982f424",
   "metadata": {},
   "outputs": [
    {
     "data": {
      "text/plain": [
       "'dhwihwee\\nwknwejkdnkwedn\\nqdnwekdlkewd\\nkqndkndwejfw\\nkdnwdmlweuwhf\\nkjbdlnwlkdjweoi'"
      ]
     },
     "execution_count": 23,
     "metadata": {},
     "output_type": "execute_result"
    }
   ],
   "source": [
    "#sfhsofhdfs\n",
    "\"\"\"dhwihwee\n",
    "wknwejkdnkwedn\n",
    "qdnwekdlkewd\n",
    "kqndkndwejfw\n",
    "kdnwdmlweuwhf\n",
    "kjbdlnwlkdjweoi\"\"\""
   ]
  },
  {
   "cell_type": "code",
   "execution_count": 24,
   "id": "0cc30788-9202-4dc6-bbe3-2f1f86d772e7",
   "metadata": {},
   "outputs": [],
   "source": [
    "a = 10"
   ]
  },
  {
   "cell_type": "code",
   "execution_count": 25,
   "id": "5448fc5f-1ff8-4e18-894d-d12b5c6c2b3e",
   "metadata": {},
   "outputs": [
    {
     "data": {
      "text/plain": [
       "10"
      ]
     },
     "execution_count": 25,
     "metadata": {},
     "output_type": "execute_result"
    }
   ],
   "source": [
    "a"
   ]
  },
  {
   "cell_type": "code",
   "execution_count": 26,
   "id": "a8992071-928d-4c1c-b990-b583de2ca51e",
   "metadata": {},
   "outputs": [
    {
     "data": {
      "text/plain": [
       "int"
      ]
     },
     "execution_count": 26,
     "metadata": {},
     "output_type": "execute_result"
    }
   ],
   "source": [
    "type(a)"
   ]
  },
  {
   "cell_type": "code",
   "execution_count": 27,
   "id": "30cf21e6-b414-43bc-ad67-4c0dfeb30ef0",
   "metadata": {},
   "outputs": [],
   "source": [
    "b= \"vatsa\""
   ]
  },
  {
   "cell_type": "code",
   "execution_count": 28,
   "id": "13719684-8706-4447-9f8c-b8931eab8d9f",
   "metadata": {},
   "outputs": [
    {
     "data": {
      "text/plain": [
       "str"
      ]
     },
     "execution_count": 28,
     "metadata": {},
     "output_type": "execute_result"
    }
   ],
   "source": [
    "type(b)"
   ]
  },
  {
   "cell_type": "code",
   "execution_count": 29,
   "id": "1132b948-830b-4ef2-8151-c6a6fb0734db",
   "metadata": {},
   "outputs": [
    {
     "name": "stdout",
     "output_type": "stream",
     "text": [
      "vatsa 10\n"
     ]
    }
   ],
   "source": [
    "print(b,a)"
   ]
  },
  {
   "cell_type": "code",
   "execution_count": 30,
   "id": "53fdecbd-ae5b-4312-ab07-01a1e4954b0b",
   "metadata": {},
   "outputs": [
    {
     "name": "stdout",
     "output_type": "stream",
     "text": [
      "vatsa 10 gey\n"
     ]
    }
   ],
   "source": [
    "print(b,a,\"gey\")"
   ]
  },
  {
   "cell_type": "code",
   "execution_count": 31,
   "id": "87c0ab14-4498-4899-96aa-a25e8e01165b",
   "metadata": {},
   "outputs": [],
   "source": [
    "c,d = 10,20"
   ]
  },
  {
   "cell_type": "code",
   "execution_count": 32,
   "id": "2ad1fcef-99d0-443c-a37e-dfecda8b7a6f",
   "metadata": {},
   "outputs": [
    {
     "name": "stdout",
     "output_type": "stream",
     "text": [
      "10\n",
      "20\n",
      "10 20\n"
     ]
    }
   ],
   "source": [
    "print(c)\n",
    "print(d)\n",
    "print(c,d)"
   ]
  },
  {
   "cell_type": "code",
   "execution_count": 33,
   "id": "f7f86ca0-4566-4b66-9485-41f439c25a7f",
   "metadata": {},
   "outputs": [
    {
     "name": "stdout",
     "output_type": "stream",
     "text": [
      "10 vatsa\n"
     ]
    }
   ],
   "source": [
    "type(b)\n",
    "print(a,b)"
   ]
  },
  {
   "cell_type": "code",
   "execution_count": 34,
   "id": "5918bbf9-b1dc-4204-a2ac-7a507ead0b19",
   "metadata": {},
   "outputs": [],
   "source": [
    "b = True\n",
    "c = False"
   ]
  },
  {
   "cell_type": "code",
   "execution_count": 35,
   "id": "4ebc4b3f-f32e-4f77-bda4-3a688a3bda9d",
   "metadata": {},
   "outputs": [
    {
     "data": {
      "text/plain": [
       "2"
      ]
     },
     "execution_count": 35,
     "metadata": {},
     "output_type": "execute_result"
    }
   ],
   "source": [
    "True + True - False"
   ]
  },
  {
   "cell_type": "code",
   "execution_count": 36,
   "id": "a6a4433b-f0fe-478f-b469-63586010e4d0",
   "metadata": {},
   "outputs": [
    {
     "data": {
      "text/plain": [
       "-2"
      ]
     },
     "execution_count": 36,
     "metadata": {},
     "output_type": "execute_result"
    }
   ],
   "source": [
    "0-2"
   ]
  },
  {
   "cell_type": "code",
   "execution_count": 37,
   "id": "97da05b9-a3ec-4b58-baf9-9f0c7b49e8b5",
   "metadata": {},
   "outputs": [],
   "source": [
    "e=5+6j"
   ]
  },
  {
   "cell_type": "code",
   "execution_count": 38,
   "id": "a8e5d3bd-2f80-4d05-b049-71baefd80361",
   "metadata": {},
   "outputs": [
    {
     "data": {
      "text/plain": [
       "complex"
      ]
     },
     "execution_count": 38,
     "metadata": {},
     "output_type": "execute_result"
    }
   ],
   "source": [
    "type(e)"
   ]
  },
  {
   "cell_type": "code",
   "execution_count": 39,
   "id": "225258d1-cbb3-400e-93f9-e35af8162a3e",
   "metadata": {},
   "outputs": [
    {
     "data": {
      "text/plain": [
       "5.0"
      ]
     },
     "execution_count": 39,
     "metadata": {},
     "output_type": "execute_result"
    }
   ],
   "source": [
    "e.real"
   ]
  },
  {
   "cell_type": "code",
   "execution_count": 40,
   "id": "4cb7fde7-dd83-4944-9165-184b0bcec922",
   "metadata": {},
   "outputs": [
    {
     "data": {
      "text/plain": [
       "6.0"
      ]
     },
     "execution_count": 40,
     "metadata": {},
     "output_type": "execute_result"
    }
   ],
   "source": [
    "e.imag"
   ]
  },
  {
   "cell_type": "code",
   "execution_count": 41,
   "id": "f48f60aa-4834-4373-be8a-51e87d51e9b8",
   "metadata": {},
   "outputs": [
    {
     "ename": "TypeError",
     "evalue": "unsupported operand type(s) for +: 'int' and 'str'",
     "output_type": "error",
     "traceback": [
      "\u001b[1;31m---------------------------------------------------------------------------\u001b[0m",
      "\u001b[1;31mTypeError\u001b[0m                                 Traceback (most recent call last)",
      "Cell \u001b[1;32mIn[41], line 1\u001b[0m\n\u001b[1;32m----> 1\u001b[0m \u001b[38;5;241m1\u001b[39m\u001b[38;5;241m+\u001b[39m\u001b[38;5;124m\"\u001b[39m\u001b[38;5;124mvatsa\u001b[39m\u001b[38;5;124m\"\u001b[39m\n",
      "\u001b[1;31mTypeError\u001b[0m: unsupported operand type(s) for +: 'int' and 'str'"
     ]
    }
   ],
   "source": [
    "1+\"vatsa\""
   ]
  },
  {
   "cell_type": "code",
   "execution_count": 42,
   "id": "5145ee5c-b2e7-4e9d-b289-7c29bfbe63f6",
   "metadata": {},
   "outputs": [
    {
     "data": {
      "text/plain": [
       "'1vatsa'"
      ]
     },
     "execution_count": 42,
     "metadata": {},
     "output_type": "execute_result"
    }
   ],
   "source": [
    "\"1\"+\"vatsa\""
   ]
  },
  {
   "cell_type": "code",
   "execution_count": 43,
   "id": "6ca01276-54f4-4bca-8e7e-5f93847756bc",
   "metadata": {},
   "outputs": [
    {
     "data": {
      "text/plain": [
       "'vatsa vatsa vatsa'"
      ]
     },
     "execution_count": 43,
     "metadata": {},
     "output_type": "execute_result"
    }
   ],
   "source": [
    "\"vatsa\"+\" vatsa\"+\" vatsa\"\n"
   ]
  },
  {
   "cell_type": "code",
   "execution_count": 44,
   "id": "11f65f43-798a-4387-a24a-02bb8b8fd02d",
   "metadata": {},
   "outputs": [
    {
     "data": {
      "text/plain": [
       "'vatsa vatsa vatsa '"
      ]
     },
     "execution_count": 44,
     "metadata": {},
     "output_type": "execute_result"
    }
   ],
   "source": [
    "\"vatsa \" * 3"
   ]
  },
  {
   "cell_type": "code",
   "execution_count": 45,
   "id": "da24f35b-6f2e-4e65-838b-882cf48ac014",
   "metadata": {},
   "outputs": [
    {
     "ename": "TypeError",
     "evalue": "can't multiply sequence by non-int of type 'str'",
     "output_type": "error",
     "traceback": [
      "\u001b[1;31m---------------------------------------------------------------------------\u001b[0m",
      "\u001b[1;31mTypeError\u001b[0m                                 Traceback (most recent call last)",
      "Cell \u001b[1;32mIn[45], line 1\u001b[0m\n\u001b[1;32m----> 1\u001b[0m \u001b[38;5;124m\"\u001b[39m\u001b[38;5;124mvatsa\u001b[39m\u001b[38;5;124m\"\u001b[39m \u001b[38;5;241m*\u001b[39m \u001b[38;5;124m\"\u001b[39m\u001b[38;5;124mvatsa\u001b[39m\u001b[38;5;124m\"\u001b[39m\n",
      "\u001b[1;31mTypeError\u001b[0m: can't multiply sequence by non-int of type 'str'"
     ]
    }
   ],
   "source": [
    "\"vatsa\" * \"vatsa\""
   ]
  },
  {
   "cell_type": "code",
   "execution_count": 47,
   "id": "fb361a36-cc1d-488e-be67-bec1a51cdaf4",
   "metadata": {},
   "outputs": [
    {
     "name": "stdin",
     "output_type": "stream",
     "text": [
      " Hello\n"
     ]
    }
   ],
   "source": [
    "word = input()"
   ]
  },
  {
   "cell_type": "code",
   "execution_count": 48,
   "id": "c6265031-eb20-457d-a33e-e6fdbd261fbc",
   "metadata": {},
   "outputs": [
    {
     "data": {
      "text/plain": [
       "'Hello'"
      ]
     },
     "execution_count": 48,
     "metadata": {},
     "output_type": "execute_result"
    }
   ],
   "source": [
    "word"
   ]
  },
  {
   "cell_type": "code",
   "execution_count": 49,
   "id": "60b1fa7f-13d9-4f96-af44-ae9fa039e8c2",
   "metadata": {},
   "outputs": [
    {
     "name": "stdin",
     "output_type": "stream",
     "text": [
      " 5\n",
      " 10\n",
      " 25\n"
     ]
    }
   ],
   "source": [
    "#start of the problem\n",
    "a = int(input())\n",
    "b = int(input())\n",
    "c = int(input())"
   ]
  },
  {
   "cell_type": "code",
   "execution_count": 50,
   "id": "93f16ea7-05f7-4f1a-a7ba-a54f71b1bde1",
   "metadata": {},
   "outputs": [],
   "source": [
    "o = (a+b)/c"
   ]
  },
  {
   "cell_type": "code",
   "execution_count": 51,
   "id": "6695d938-2bf6-47d4-a32f-a582298efc1e",
   "metadata": {},
   "outputs": [],
   "source": [
    "o1 = o + (6+5j)"
   ]
  },
  {
   "cell_type": "code",
   "execution_count": 52,
   "id": "42417986-ac67-4f58-bc77-b3a828102009",
   "metadata": {},
   "outputs": [],
   "source": [
    "o2 = str(o1)"
   ]
  },
  {
   "cell_type": "code",
   "execution_count": 53,
   "id": "95424fc0-3ec1-4756-871b-34f50c580c4b",
   "metadata": {},
   "outputs": [
    {
     "data": {
      "text/plain": [
       "'(6.6+5j)vatsa'"
      ]
     },
     "execution_count": 53,
     "metadata": {},
     "output_type": "execute_result"
    }
   ],
   "source": [
    "o2+\"vatsa\" #end of the problem"
   ]
  },
  {
   "cell_type": "code",
   "execution_count": 54,
   "id": "5002cf91-135f-4736-bb94-68f4fb9ca8f2",
   "metadata": {},
   "outputs": [
    {
     "name": "stdin",
     "output_type": "stream",
     "text": [
      "Input a number less than 50 100\n"
     ]
    },
    {
     "name": "stdout",
     "output_type": "stream",
     "text": [
      "Please give a number less than 50\n",
      "Please enter your number again\n"
     ]
    }
   ],
   "source": [
    "num = int(input(\"Input a number less than 50\"))\n",
    "if num>=50:\n",
    "    print(\"Please give a number less than 50\")\n",
    "    if True:\n",
    "        print(\"Please enter your number again\")\n",
    "elif num<50 and num>=25:\n",
    "    if num<25:\n",
    "        pass #use it when you don't want to write any body \n",
    "    print(\"YOur number is less than 50 but greater than 25\")\n",
    "else:\n",
    "    print(\"Thank you\")"
   ]
  },
  {
   "cell_type": "code",
   "execution_count": null,
   "id": "6ac14c50-761a-4502-b706-4885d6ed5934",
   "metadata": {},
   "outputs": [],
   "source": []
  }
 ],
 "metadata": {
  "kernelspec": {
   "display_name": "Python 3 (ipykernel)",
   "language": "python",
   "name": "python3"
  },
  "language_info": {
   "codemirror_mode": {
    "name": "ipython",
    "version": 3
   },
   "file_extension": ".py",
   "mimetype": "text/x-python",
   "name": "python",
   "nbconvert_exporter": "python",
   "pygments_lexer": "ipython3",
   "version": "3.12.7"
  }
 },
 "nbformat": 4,
 "nbformat_minor": 5
}
